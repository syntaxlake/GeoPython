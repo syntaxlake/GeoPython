{
  "cells": [
    {
      "cell_type": "code",
      "execution_count": null,
      "id": "f7e94a6c",
      "metadata": {
        "id": "f7e94a6c"
      },
      "outputs": [],
      "source": [
        "import pandas as pd\n",
        "import geopandas as gpd\n",
        "from keplergl import KeplerGl"
      ]
    },
    {
      "cell_type": "code",
      "execution_count": null,
      "id": "d6b1f494",
      "metadata": {
        "id": "d6b1f494"
      },
      "outputs": [],
      "source": [
        "gdf = gpd.read_file('./Downloads/F_FAC_BUILDING_부산\\F_FAC_BUILDING_26_202306.shp', encoding='euc-kr')"
      ]
    },
    {
      "cell_type": "code",
      "execution_count": null,
      "id": "5389defb",
      "metadata": {
        "id": "5389defb",
        "outputId": "9f1d6c3f-8d30-4405-cccc-ed1ccc854067"
      },
      "outputs": [
        {
          "data": {
            "text/html": [
              "<div>\n",
              "<style scoped>\n",
              "    .dataframe tbody tr th:only-of-type {\n",
              "        vertical-align: middle;\n",
              "    }\n",
              "\n",
              "    .dataframe tbody tr th {\n",
              "        vertical-align: top;\n",
              "    }\n",
              "\n",
              "    .dataframe thead th {\n",
              "        text-align: right;\n",
              "    }\n",
              "</style>\n",
              "<table border=\"1\" class=\"dataframe\">\n",
              "  <thead>\n",
              "    <tr style=\"text-align: right;\">\n",
              "      <th></th>\n",
              "      <th>GRND_FLR</th>\n",
              "      <th>STRCT_CD</th>\n",
              "      <th>USABILITY</th>\n",
              "      <th>BLDG_PNU_Y</th>\n",
              "      <th>VIOL_BD_YN</th>\n",
              "      <th>VL_RAT</th>\n",
              "      <th>SGG_OID</th>\n",
              "      <th>BLDRGST_PK</th>\n",
              "      <th>DONG_NM</th>\n",
              "      <th>ARCHAREA</th>\n",
              "      <th>...</th>\n",
              "      <th>BLDG_PNU</th>\n",
              "      <th>BC_RAT</th>\n",
              "      <th>UGRND_FLR</th>\n",
              "      <th>PLATAREA</th>\n",
              "      <th>USEAPR_DAY</th>\n",
              "      <th>PNU</th>\n",
              "      <th>GB_CD</th>\n",
              "      <th>BLD_UNLICE</th>\n",
              "      <th>COL_ADM_SE</th>\n",
              "      <th>geometry</th>\n",
              "    </tr>\n",
              "  </thead>\n",
              "  <tbody>\n",
              "    <tr>\n",
              "      <th>472580</th>\n",
              "      <td>7.0</td>\n",
              "      <td>21</td>\n",
              "      <td>03000</td>\n",
              "      <td>NaN</td>\n",
              "      <td>0</td>\n",
              "      <td>343.0</td>\n",
              "      <td>22472</td>\n",
              "      <td>16041</td>\n",
              "      <td>NaN</td>\n",
              "      <td>101.0</td>\n",
              "      <td>...</td>\n",
              "      <td>NaN</td>\n",
              "      <td>55.0</td>\n",
              "      <td>1.0</td>\n",
              "      <td>183.0</td>\n",
              "      <td>20010616</td>\n",
              "      <td>2641010900102230018</td>\n",
              "      <td>0</td>\n",
              "      <td>NaN</td>\n",
              "      <td>26410</td>\n",
              "      <td>POLYGON ((390229.055 195351.236, 390227.431 19...</td>\n",
              "    </tr>\n",
              "    <tr>\n",
              "      <th>472581</th>\n",
              "      <td>1.0</td>\n",
              "      <td>32</td>\n",
              "      <td>04000</td>\n",
              "      <td>NaN</td>\n",
              "      <td>0</td>\n",
              "      <td>8.0</td>\n",
              "      <td>79056</td>\n",
              "      <td>100291161</td>\n",
              "      <td>주건축물제1동</td>\n",
              "      <td>37.0</td>\n",
              "      <td>...</td>\n",
              "      <td>NaN</td>\n",
              "      <td>8.0</td>\n",
              "      <td>0.0</td>\n",
              "      <td>447.0</td>\n",
              "      <td>20211217</td>\n",
              "      <td>2671025926102130000</td>\n",
              "      <td>0</td>\n",
              "      <td>NaN</td>\n",
              "      <td>26710</td>\n",
              "      <td>POLYGON ((405243.022 201746.010, 405246.649 20...</td>\n",
              "    </tr>\n",
              "    <tr>\n",
              "      <th>472582</th>\n",
              "      <td>2.0</td>\n",
              "      <td>21</td>\n",
              "      <td>06000</td>\n",
              "      <td>NaN</td>\n",
              "      <td>0</td>\n",
              "      <td>0.0</td>\n",
              "      <td>15135</td>\n",
              "      <td>8924</td>\n",
              "      <td>바동</td>\n",
              "      <td>334.0</td>\n",
              "      <td>...</td>\n",
              "      <td>NaN</td>\n",
              "      <td>0.0</td>\n",
              "      <td>1.0</td>\n",
              "      <td>0.0</td>\n",
              "      <td>19940701</td>\n",
              "      <td>2671025921106480001</td>\n",
              "      <td>0</td>\n",
              "      <td>NaN</td>\n",
              "      <td>26710</td>\n",
              "      <td>POLYGON ((401226.869 198288.910, 401217.852 19...</td>\n",
              "    </tr>\n",
              "    <tr>\n",
              "      <th>472583</th>\n",
              "      <td>1.0</td>\n",
              "      <td>51</td>\n",
              "      <td>01000</td>\n",
              "      <td>NaN</td>\n",
              "      <td>0</td>\n",
              "      <td>0.0</td>\n",
              "      <td>13525</td>\n",
              "      <td>9076</td>\n",
              "      <td>NaN</td>\n",
              "      <td>62.0</td>\n",
              "      <td>...</td>\n",
              "      <td>NaN</td>\n",
              "      <td>0.0</td>\n",
              "      <td>0.0</td>\n",
              "      <td>0.0</td>\n",
              "      <td>19561020</td>\n",
              "      <td>2671025922102130005</td>\n",
              "      <td>0</td>\n",
              "      <td>NaN</td>\n",
              "      <td>26710</td>\n",
              "      <td>POLYGON ((404141.425 199365.411, 404130.743 19...</td>\n",
              "    </tr>\n",
              "    <tr>\n",
              "      <th>472584</th>\n",
              "      <td>3.0</td>\n",
              "      <td>11</td>\n",
              "      <td>04000</td>\n",
              "      <td>NaN</td>\n",
              "      <td>0</td>\n",
              "      <td>179.0</td>\n",
              "      <td>10058</td>\n",
              "      <td>14245</td>\n",
              "      <td>NaN</td>\n",
              "      <td>83.0</td>\n",
              "      <td>...</td>\n",
              "      <td>NaN</td>\n",
              "      <td>59.0</td>\n",
              "      <td>1.0</td>\n",
              "      <td>139.0</td>\n",
              "      <td>19890726</td>\n",
              "      <td>2641010400109720014</td>\n",
              "      <td>0</td>\n",
              "      <td>NaN</td>\n",
              "      <td>26410</td>\n",
              "      <td>POLYGON ((389732.672 198798.422, 389732.907 19...</td>\n",
              "    </tr>\n",
              "  </tbody>\n",
              "</table>\n",
              "<p>5 rows × 27 columns</p>\n",
              "</div>"
            ],
            "text/plain": [
              "        GRND_FLR STRCT_CD USABILITY BLDG_PNU_Y VIOL_BD_YN  VL_RAT  SGG_OID  \\\n",
              "472580       7.0       21     03000        NaN          0   343.0    22472   \n",
              "472581       1.0       32     04000        NaN          0     8.0    79056   \n",
              "472582       2.0       21     06000        NaN          0     0.0    15135   \n",
              "472583       1.0       51     01000        NaN          0     0.0    13525   \n",
              "472584       3.0       11     04000        NaN          0   179.0    10058   \n",
              "\n",
              "       BLDRGST_PK  DONG_NM  ARCHAREA  ...  BLDG_PNU BC_RAT UGRND_FLR PLATAREA  \\\n",
              "472580      16041      NaN     101.0  ...       NaN   55.0       1.0    183.0   \n",
              "472581  100291161  주건축물제1동      37.0  ...       NaN    8.0       0.0    447.0   \n",
              "472582       8924       바동     334.0  ...       NaN    0.0       1.0      0.0   \n",
              "472583       9076      NaN      62.0  ...       NaN    0.0       0.0      0.0   \n",
              "472584      14245      NaN      83.0  ...       NaN   59.0       1.0    139.0   \n",
              "\n",
              "       USEAPR_DAY                  PNU GB_CD BLD_UNLICE  COL_ADM_SE  \\\n",
              "472580   20010616  2641010900102230018     0        NaN       26410   \n",
              "472581   20211217  2671025926102130000     0        NaN       26710   \n",
              "472582   19940701  2671025921106480001     0        NaN       26710   \n",
              "472583   19561020  2671025922102130005     0        NaN       26710   \n",
              "472584   19890726  2641010400109720014     0        NaN       26410   \n",
              "\n",
              "                                                 geometry  \n",
              "472580  POLYGON ((390229.055 195351.236, 390227.431 19...  \n",
              "472581  POLYGON ((405243.022 201746.010, 405246.649 20...  \n",
              "472582  POLYGON ((401226.869 198288.910, 401217.852 19...  \n",
              "472583  POLYGON ((404141.425 199365.411, 404130.743 19...  \n",
              "472584  POLYGON ((389732.672 198798.422, 389732.907 19...  \n",
              "\n",
              "[5 rows x 27 columns]"
            ]
          },
          "execution_count": 23,
          "metadata": {},
          "output_type": "execute_result"
        }
      ],
      "source": [
        "gdf.tail()"
      ]
    },
    {
      "cell_type": "code",
      "execution_count": null,
      "id": "73689b02",
      "metadata": {
        "id": "73689b02"
      },
      "outputs": [],
      "source": [
        "gdf26350 = gdf[gdf['COL_ADM_SE'].str.contains('26350')==True]"
      ]
    },
    {
      "cell_type": "code",
      "execution_count": null,
      "id": "cc8758e2",
      "metadata": {
        "id": "cc8758e2",
        "outputId": "e90062f6-5440-4ee9-8701-06a4d88edc12"
      },
      "outputs": [
        {
          "name": "stdout",
          "output_type": "stream",
          "text": [
            "<class 'geopandas.geodataframe.GeoDataFrame'>\n",
            "Index: 32744 entries, 2488 to 470681\n",
            "Data columns (total 27 columns):\n",
            " #   Column      Non-Null Count  Dtype   \n",
            "---  ------      --------------  -----   \n",
            " 0   GRND_FLR    32741 non-null  float64 \n",
            " 1   STRCT_CD    19809 non-null  object  \n",
            " 2   USABILITY   19809 non-null  object  \n",
            " 3   BLDG_PNU_Y  0 non-null      object  \n",
            " 4   VIOL_BD_YN  19733 non-null  object  \n",
            " 5   VL_RAT      32706 non-null  float64 \n",
            " 6   SGG_OID     32744 non-null  int64   \n",
            " 7   BLDRGST_PK  19808 non-null  object  \n",
            " 8   DONG_NM     3078 non-null   object  \n",
            " 9   ARCHAREA    32741 non-null  float64 \n",
            " 10  HEIGHT      32742 non-null  float64 \n",
            " 11  BLD_NM      3977 non-null   object  \n",
            " 12  BD_MGT_SN   20915 non-null  object  \n",
            " 13  UFID        32744 non-null  object  \n",
            " 14  GEOIDN      25497 non-null  object  \n",
            " 15  TOTALAREA   32744 non-null  float64 \n",
            " 16  REGIST_DAY  32744 non-null  object  \n",
            " 17  BLDG_PNU    0 non-null      object  \n",
            " 18  BC_RAT      32706 non-null  float64 \n",
            " 19  UGRND_FLR   32685 non-null  float64 \n",
            " 20  PLATAREA    32706 non-null  float64 \n",
            " 21  USEAPR_DAY  20433 non-null  object  \n",
            " 22  PNU         32744 non-null  object  \n",
            " 23  GB_CD       19807 non-null  object  \n",
            " 24  BLD_UNLICE  0 non-null      object  \n",
            " 25  COL_ADM_SE  32744 non-null  object  \n",
            " 26  geometry    32744 non-null  geometry\n",
            "dtypes: float64(8), geometry(1), int64(1), object(17)\n",
            "memory usage: 7.0+ MB\n"
          ]
        }
      ],
      "source": [
        "gdf26350.info()"
      ]
    },
    {
      "cell_type": "code",
      "execution_count": null,
      "id": "ec55da49",
      "metadata": {
        "id": "ec55da49",
        "outputId": "b644f248-4f14-44dc-e297-4215aeb3d29a"
      },
      "outputs": [
        {
          "data": {
            "text/plain": [
              "15"
            ]
          },
          "execution_count": 26,
          "metadata": {},
          "output_type": "execute_result"
        }
      ],
      "source": [
        "import gc\n",
        "del gdf\n",
        "gc.collect()"
      ]
    },
    {
      "cell_type": "code",
      "execution_count": null,
      "id": "6d40e55a",
      "metadata": {
        "id": "6d40e55a"
      },
      "outputs": [],
      "source": [
        "import geopandas as gpd\n",
        "import numpy as np\n",
        "\n",
        "gdfv = gpd.read_file('./Documents/등고선.shp', encoding='euc-kr')\n"
      ]
    },
    {
      "cell_type": "code",
      "execution_count": null,
      "id": "b01251e8",
      "metadata": {
        "scrolled": true,
        "id": "b01251e8",
        "outputId": "d54de67f-e8a0-425c-faae-a33c4ecfc768"
      },
      "outputs": [
        {
          "data": {
            "text/html": [
              "<div>\n",
              "<style scoped>\n",
              "    .dataframe tbody tr th:only-of-type {\n",
              "        vertical-align: middle;\n",
              "    }\n",
              "\n",
              "    .dataframe tbody tr th {\n",
              "        vertical-align: top;\n",
              "    }\n",
              "\n",
              "    .dataframe thead th {\n",
              "        text-align: right;\n",
              "    }\n",
              "</style>\n",
              "<table border=\"1\" class=\"dataframe\">\n",
              "  <thead>\n",
              "    <tr style=\"text-align: right;\">\n",
              "      <th></th>\n",
              "      <th>fid</th>\n",
              "      <th>ID</th>\n",
              "      <th>ELEV</th>\n",
              "      <th>geometry</th>\n",
              "    </tr>\n",
              "  </thead>\n",
              "  <tbody>\n",
              "    <tr>\n",
              "      <th>0</th>\n",
              "      <td>1.0</td>\n",
              "      <td>0</td>\n",
              "      <td>190.0</td>\n",
              "      <td>LINESTRING (129.14256 35.25482, 129.14306 35.2...</td>\n",
              "    </tr>\n",
              "    <tr>\n",
              "      <th>1</th>\n",
              "      <td>2.0</td>\n",
              "      <td>1</td>\n",
              "      <td>200.0</td>\n",
              "      <td>LINESTRING (129.14234 35.25464, 129.14255 35.2...</td>\n",
              "    </tr>\n",
              "    <tr>\n",
              "      <th>2</th>\n",
              "      <td>3.0</td>\n",
              "      <td>2</td>\n",
              "      <td>210.0</td>\n",
              "      <td>LINESTRING (129.14192 35.25465, 129.14191 35.2...</td>\n",
              "    </tr>\n",
              "    <tr>\n",
              "      <th>3</th>\n",
              "      <td>4.0</td>\n",
              "      <td>3</td>\n",
              "      <td>220.0</td>\n",
              "      <td>LINESTRING (129.14163 35.25465, 129.14162 35.2...</td>\n",
              "    </tr>\n",
              "    <tr>\n",
              "      <th>4</th>\n",
              "      <td>5.0</td>\n",
              "      <td>4</td>\n",
              "      <td>230.0</td>\n",
              "      <td>LINESTRING (129.14134 35.25466, 129.14133 35.2...</td>\n",
              "    </tr>\n",
              "  </tbody>\n",
              "</table>\n",
              "</div>"
            ],
            "text/plain": [
              "   fid  ID   ELEV                                           geometry\n",
              "0  1.0   0  190.0  LINESTRING (129.14256 35.25482, 129.14306 35.2...\n",
              "1  2.0   1  200.0  LINESTRING (129.14234 35.25464, 129.14255 35.2...\n",
              "2  3.0   2  210.0  LINESTRING (129.14192 35.25465, 129.14191 35.2...\n",
              "3  4.0   3  220.0  LINESTRING (129.14163 35.25465, 129.14162 35.2...\n",
              "4  5.0   4  230.0  LINESTRING (129.14134 35.25466, 129.14133 35.2..."
            ]
          },
          "execution_count": 158,
          "metadata": {},
          "output_type": "execute_result"
        }
      ],
      "source": [
        "gdfv.head()"
      ]
    },
    {
      "cell_type": "code",
      "execution_count": null,
      "id": "c9385f04",
      "metadata": {
        "scrolled": true,
        "id": "c9385f04",
        "outputId": "95051902-8b46-4df4-c077-883fd4c8a32b"
      },
      "outputs": [
        {
          "name": "stdout",
          "output_type": "stream",
          "text": [
            "                         lat long height geometry\n",
            "0  391712.81 292545.12 34.80                 None\n",
            "1  391712.81 292455.12 37.12                 None\n",
            "2  391712.81 292365.12 39.03                 None\n",
            "3  391802.81 292725.12 28.53                 None\n",
            "4  391802.81 292635.12 39.29                 None\n",
            "            lat       long  height geometry\n",
            "0     391712.81  292545.12   34.80     None\n",
            "1     391712.81  292455.12   37.12     None\n",
            "2     391712.81  292365.12   39.03     None\n",
            "3     391802.81  292725.12   28.53     None\n",
            "4     391802.81  292635.12   39.29     None\n",
            "...         ...        ...     ...      ...\n",
            "8185  401522.81  289935.12    6.82     None\n",
            "8186  401522.81  289845.12    2.85     None\n",
            "8187  401522.81  289665.12    5.89     None\n",
            "8188  401522.81  289575.12    4.48     None\n",
            "8189  401522.81  289485.12    2.27     None\n",
            "\n",
            "[8190 rows x 4 columns]\n"
          ]
        }
      ],
      "source": []
    },
    {
      "cell_type": "code",
      "execution_count": null,
      "id": "ea2a1777",
      "metadata": {
        "id": "ea2a1777",
        "outputId": "6e30cace-90b5-4942-b02d-86a8415275ed"
      },
      "outputs": [
        {
          "name": "stdout",
          "output_type": "stream",
          "text": [
            "            lat       long  height geometry\n",
            "0     391712.81  292545.12   34.80     None\n",
            "1     391712.81  292455.12   37.12     None\n",
            "2     391712.81  292365.12   39.03     None\n",
            "3     391802.81  292725.12   28.53     None\n",
            "4     391802.81  292635.12   39.29     None\n",
            "...         ...        ...     ...      ...\n",
            "8185  401522.81  289935.12    6.82     None\n",
            "8186  401522.81  289845.12    2.85     None\n",
            "8187  401522.81  289665.12    5.89     None\n",
            "8188  401522.81  289575.12    4.48     None\n",
            "8189  401522.81  289485.12    2.27     None\n",
            "\n",
            "[8190 rows x 4 columns]\n"
          ]
        }
      ],
      "source": []
    },
    {
      "cell_type": "code",
      "execution_count": null,
      "id": "fa64d1eb",
      "metadata": {
        "id": "fa64d1eb",
        "outputId": "135098a7-2372-42a5-c1fa-c3c56a0e5b69"
      },
      "outputs": [
        {
          "data": {
            "text/plain": [
              "<Geographic 2D CRS: EPSG:4326>\n",
              "Name: WGS 84\n",
              "Axis Info [ellipsoidal]:\n",
              "- Lat[north]: Geodetic latitude (degree)\n",
              "- Lon[east]: Geodetic longitude (degree)\n",
              "Area of Use:\n",
              "- name: World.\n",
              "- bounds: (-180.0, -90.0, 180.0, 90.0)\n",
              "Datum: World Geodetic System 1984 ensemble\n",
              "- Ellipsoid: WGS 84\n",
              "- Prime Meridian: Greenwich"
            ]
          },
          "execution_count": 155,
          "metadata": {},
          "output_type": "execute_result"
        }
      ],
      "source": []
    },
    {
      "cell_type": "code",
      "execution_count": null,
      "id": "3005e615",
      "metadata": {
        "id": "3005e615",
        "outputId": "22bf8167-ebea-401c-843a-9399da794f34"
      },
      "outputs": [
        {
          "data": {
            "text/plain": [
              "{'init': 'epsg:4326', 'no_defs': True}"
            ]
          },
          "execution_count": 147,
          "metadata": {},
          "output_type": "execute_result"
        }
      ],
      "source": []
    },
    {
      "cell_type": "code",
      "execution_count": null,
      "id": "74f667be",
      "metadata": {
        "id": "74f667be"
      },
      "outputs": [],
      "source": []
    },
    {
      "cell_type": "code",
      "execution_count": null,
      "id": "56e218b6",
      "metadata": {
        "scrolled": true,
        "id": "56e218b6",
        "outputId": "f83d755c-b442-41c9-a93f-e6c5ee84b66d",
        "colab": {
          "referenced_widgets": [
            "4dc594612e5d4793936ec1d4b3ebcb35"
          ]
        }
      },
      "outputs": [
        {
          "name": "stdout",
          "output_type": "stream",
          "text": [
            "User Guide: https://docs.kepler.gl/docs/keplergl-jupyter\n"
          ]
        },
        {
          "name": "stderr",
          "output_type": "stream",
          "text": [
            "C:\\Users\\user\\.conda\\envs\\geo_env\\Lib\\site-packages\\IPython\\core\\formatters.py:367: FormatterWarning: text/html formatter returned invalid type <class 'bytes'> (expected <class 'str'>) for object: KeplerGl(height=600)\n",
            "  warnings.warn(\n"
          ]
        },
        {
          "data": {
            "application/vnd.jupyter.widget-view+json": {
              "model_id": "4dc594612e5d4793936ec1d4b3ebcb35",
              "version_major": 2,
              "version_minor": 0
            },
            "text/plain": [
              "KeplerGl(height=600)"
            ]
          },
          "execution_count": 45,
          "metadata": {},
          "output_type": "execute_result"
        }
      ],
      "source": [
        "map = KeplerGl(height=600, width=800)\n",
        "#show the map\n",
        "map"
      ]
    },
    {
      "cell_type": "code",
      "execution_count": null,
      "id": "c0d3b19e",
      "metadata": {
        "id": "c0d3b19e",
        "outputId": "12252eab-3441-4509-f74d-1ee47985ade4"
      },
      "outputs": [
        {
          "name": "stderr",
          "output_type": "stream",
          "text": [
            "C:\\Users\\user\\.conda\\envs\\geo_env\\Lib\\site-packages\\jupyter_client\\session.py:719: UserWarning: Message serialization failed with:\n",
            "Out of range float values are not JSON compliant\n",
            "Supporting this message is deprecated in jupyter-client 7, please make sure your message is JSON-compliant\n",
            "  content = self.pack(content)\n"
          ]
        }
      ],
      "source": [
        "map.add_data(data=gdf26350, name= \"HaeUndaebldg01\")"
      ]
    },
    {
      "cell_type": "code",
      "execution_count": null,
      "id": "4ed8ec3b",
      "metadata": {
        "id": "4ed8ec3b",
        "outputId": "b7fd11a6-d47d-4ebb-c23b-79b3fba83fb2"
      },
      "outputs": [
        {
          "name": "stderr",
          "output_type": "stream",
          "text": [
            "C:\\Users\\user\\.conda\\envs\\geo_env\\Lib\\site-packages\\jupyter_client\\session.py:719: UserWarning: Message serialization failed with:\n",
            "Out of range float values are not JSON compliant\n",
            "Supporting this message is deprecated in jupyter-client 7, please make sure your message is JSON-compliant\n",
            "  content = self.pack(content)\n"
          ]
        }
      ],
      "source": [
        "map.add_data(data=gdfv, name= \"Dem\")"
      ]
    },
    {
      "cell_type": "code",
      "execution_count": null,
      "id": "a7941f7a",
      "metadata": {
        "id": "a7941f7a",
        "outputId": "0bbe6ac4-cb44-43ed-f1bb-6eccb8420ae8"
      },
      "outputs": [
        {
          "data": {
            "text/plain": [
              "<Bound CRS: +proj=tmerc +lat_0=38 +lon_0=127.0028902777778 +k= ...>\n",
              "Name: unknown\n",
              "Axis Info [cartesian]:\n",
              "- E[east]: Easting (metre)\n",
              "- N[north]: Northing (metre)\n",
              "Area of Use:\n",
              "- undefined\n",
              "Coordinate Operation:\n",
              "- name: Transformation from unknown to WGS84\n",
              "- method: Position Vector transformation (geog2D domain)\n",
              "Datum: Unknown based on Bessel 1841 ellipsoid using towgs84=-115.80,474.99,674.11,1.16,-2.31,-1.63,6.43\n",
              "- Ellipsoid: Bessel 1841\n",
              "- Prime Meridian: Greenwich\n",
              "Source CRS: unknown"
            ]
          },
          "execution_count": 149,
          "metadata": {},
          "output_type": "execute_result"
        }
      ],
      "source": [
        "import pyproj\n",
        "from fiona.crs import from_epsg\n",
        "gdf26350.crs = '+proj=tmerc +lat_0=38 +lon_0=127.0028902777778 +k=1 +x_0=200000 +y_0=500000 +ellps=bessel +units=m +no_defs +towgs84=-115.80,474.99,674.11,1.16,-2.31,-1.63,6.43'\n",
        "gdf26350.crs"
      ]
    },
    {
      "cell_type": "code",
      "execution_count": null,
      "id": "e13ddac9",
      "metadata": {
        "id": "e13ddac9",
        "outputId": "e077a6f3-2cfa-4a29-df25-a44b34b22e33"
      },
      "outputs": [
        {
          "data": {
            "text/plain": [
              "<Geographic 2D CRS: EPSG:4326>\n",
              "Name: WGS 84\n",
              "Axis Info [ellipsoidal]:\n",
              "- Lat[north]: Geodetic latitude (degree)\n",
              "- Lon[east]: Geodetic longitude (degree)\n",
              "Area of Use:\n",
              "- name: World.\n",
              "- bounds: (-180.0, -90.0, 180.0, 90.0)\n",
              "Datum: World Geodetic System 1984 ensemble\n",
              "- Ellipsoid: WGS 84\n",
              "- Prime Meridian: Greenwich"
            ]
          },
          "execution_count": 150,
          "metadata": {},
          "output_type": "execute_result"
        }
      ],
      "source": [
        "gdf26350 = gdf26350.to_crs(epsg=4326)\n",
        "gdf26350.crs"
      ]
    },
    {
      "cell_type": "code",
      "execution_count": null,
      "id": "216af8ae",
      "metadata": {
        "id": "216af8ae",
        "outputId": "ea002e9f-24f5-4ff6-d698-60f09b36c61d"
      },
      "outputs": [
        {
          "data": {
            "text/plain": [
              "{'init': 'epsg:4326', 'no_defs': True}"
            ]
          },
          "execution_count": 151,
          "metadata": {},
          "output_type": "execute_result"
        }
      ],
      "source": [
        "{'init': 'epsg:4326', 'no_defs': True}"
      ]
    },
    {
      "cell_type": "code",
      "execution_count": null,
      "id": "0b45b09a",
      "metadata": {
        "id": "0b45b09a"
      },
      "outputs": [],
      "source": []
    },
    {
      "cell_type": "code",
      "execution_count": null,
      "id": "abf993c4",
      "metadata": {
        "id": "abf993c4"
      },
      "outputs": [],
      "source": []
    }
  ],
  "metadata": {
    "kernelspec": {
      "display_name": "geo_env",
      "language": "python",
      "name": "geo_env"
    },
    "language_info": {
      "codemirror_mode": {
        "name": "ipython",
        "version": 3
      },
      "file_extension": ".py",
      "mimetype": "text/x-python",
      "name": "python",
      "nbconvert_exporter": "python",
      "pygments_lexer": "ipython3",
      "version": "3.11.4"
    },
    "colab": {
      "provenance": []
    }
  },
  "nbformat": 4,
  "nbformat_minor": 5
}